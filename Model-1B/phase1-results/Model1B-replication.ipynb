{
 "cells": [
  {
   "cell_type": "markdown",
   "metadata": {},
   "source": [
    "### Model 1B Replication\n",
    "\n",
    "\n",
    "Original Created on Tue Feb  9 13:23:30 2016 @author: nickbecker\n",
    "\n",
    "Replication April 24, 2018, Judy Yang\n",
    "\n"
   ]
  },
  {
   "cell_type": "code",
   "execution_count": 7,
   "metadata": {
    "collapsed": true
   },
   "outputs": [],
   "source": [
    "from urllib.request import urlopen\n",
    "import pandas as pd\n",
    "import numpy as np\n",
    "import scipy\n",
    "import csv\n",
    "from sklearn import linear_model\n",
    "from sklearn.cross_validation import train_test_split, cross_val_score\n",
    "from sklearn.preprocessing import normalize, Imputer\n",
    "from sklearn.metrics import mean_squared_error\n",
    "from math import sqrt"
   ]
  },
  {
   "cell_type": "code",
   "execution_count": 14,
   "metadata": {},
   "outputs": [],
   "source": [
    "#Reading ACS from the Engima website, this takes a few minutes\n",
    "\n",
    "url='http://enigma-public.s3.amazonaws.com/projects/smoke-alarm-risk/data/acs.csv'\n",
    "response = urlopen(url)\n",
    "acs =pd.read_csv(url)"
   ]
  },
  {
   "cell_type": "code",
   "execution_count": 15,
   "metadata": {},
   "outputs": [
    {
     "data": {
      "text/plain": [
       "(578901, 250)"
      ]
     },
     "execution_count": 15,
     "metadata": {},
     "output_type": "execute_result"
    }
   ],
   "source": [
    "acs.shape"
   ]
  },
  {
   "cell_type": "code",
   "execution_count": 20,
   "metadata": {},
   "outputs": [
    {
     "data": {
      "text/plain": [
       "Index(['geoid', 'tenure_renter_occupied', 'tenure_owner_occupied',\n",
       "       'vacancy_for_seasonal_recreational', 'vacancy_for_rent',\n",
       "       'vacancy_for_sale_only', 'vacancy_other_vacant',\n",
       "       'vacancy_rented_not_occupied', 'vacancy_for_migrant_workers',\n",
       "       'vacancy_sold_not_occupied',\n",
       "       ...\n",
       "       'hhmove_moved_in_1990_to_1999', 'hhmove_moved_in_1969_or_earlier',\n",
       "       'hhmove_moved_in_2000_to_2009', 'hhmove_moved_in_1970_to_1979',\n",
       "       'hhmove_moved_in_1980_to_1989', 'hhmove_moved_in_2010_or_later',\n",
       "       'qfs1_yes', 'qfs1_no', 'hdsb_no', 'hdsb_yes'],\n",
       "      dtype='object', length=250)"
      ]
     },
     "execution_count": 20,
     "metadata": {},
     "output_type": "execute_result"
    }
   ],
   "source": [
    "acs.columns"
   ]
  },
  {
   "cell_type": "code",
   "execution_count": 21,
   "metadata": {
    "collapsed": true
   },
   "outputs": [],
   "source": [
    "#Read in Home Fire NFIRS data\n",
    "tract_data = pd.read_csv('../Data/2009_2013_alarm_presence_by_tract.csv')\n",
    "\n",
    "del tract_data['Unnamed: 0']"
   ]
  },
  {
   "cell_type": "code",
   "execution_count": 22,
   "metadata": {
    "collapsed": true
   },
   "outputs": [],
   "source": [
    "\n",
    "# Get the tract id from the geoid\n",
    "x = acs['geoid'][100]\n",
    "parsed_id = x.split('US')[1]\n",
    "sum_level = x.split('US')[0]\n"
   ]
  },
  {
   "cell_type": "code",
   "execution_count": 23,
   "metadata": {},
   "outputs": [
    {
     "data": {
      "text/plain": [
       "578840    53033027300\n",
       "578841    53057952100\n",
       "578842    53063012300\n",
       "578866    55007960200\n",
       "578867    55079017000\n",
       "Name: geoid_parsed, dtype: object"
      ]
     },
     "execution_count": 23,
     "metadata": {},
     "output_type": "execute_result"
    }
   ],
   "source": [
    "acs['geoid_parsed'] = [geo[1] for geo in acs['geoid'].str.split('US')]\n",
    "acs['sum_level'] = [geo[0] for geo in acs['geoid'].str.split('US')]\n",
    "\n",
    "# understanding census coding: https://www.census.gov/geo/reference/geoidentifiers.html\n",
    "# sumlevel == 15000 is block group\n",
    "# sumlevel == 14000 is census tract\n",
    "# sumlevel == 05000 is county\n",
    "\n",
    "# pulling out state and county for ease of use\n",
    "#acs['state'] = acs['geoid_parsed'].str[0:2]\n",
    "#acs['cnty'] = acs['geoid_parsed'].str[2:5]\n",
    "#acs['raw_tract'] = acs['geoid_parsed'].str[5:]\n",
    "\n",
    "#acsC = acs.query(\"sum_level == '05000' \")\n",
    "acsCT = acs.query(\"sum_level == '14000'\")\n",
    "\n",
    "acsCT['geoid'].tail()\n",
    "#acsCT['state'].tail()\n",
    "#acsCT['cnty'].tail()\n",
    "#acsCT['raw_tract'].tail()\n",
    "acsCT['geoid_parsed'].tail()\n",
    "# Only need to keep the tract level, so clear some space in memory\n",
    "#del acs\n"
   ]
  },
  {
   "cell_type": "code",
   "execution_count": 26,
   "metadata": {},
   "outputs": [],
   "source": [
    "########################################\n",
    "# MERGING PREDICTORS & TARGET VARIABLE:\n",
    "########################################\n",
    "\n",
    "acsCT = acsCT.rename(columns = {'geoid_parsed':'tractid'})\n",
    "\n"
   ]
  },
  {
   "cell_type": "code",
   "execution_count": 27,
   "metadata": {
    "collapsed": true
   },
   "outputs": [],
   "source": [
    "acsCT['tractid'] = acsCT['tractid'].astype(int)\n"
   ]
  },
  {
   "cell_type": "code",
   "execution_count": 28,
   "metadata": {
    "collapsed": true
   },
   "outputs": [],
   "source": [
    "acs_tractid = acsCT['tractid']\n",
    "\n"
   ]
  },
  {
   "cell_type": "code",
   "execution_count": 30,
   "metadata": {},
   "outputs": [
    {
     "data": {
      "text/html": [
       "<div>\n",
       "<style scoped>\n",
       "    .dataframe tbody tr th:only-of-type {\n",
       "        vertical-align: middle;\n",
       "    }\n",
       "\n",
       "    .dataframe tbody tr th {\n",
       "        vertical-align: top;\n",
       "    }\n",
       "\n",
       "    .dataframe thead th {\n",
       "        text-align: right;\n",
       "    }\n",
       "</style>\n",
       "<table border=\"1\" class=\"dataframe\">\n",
       "  <thead>\n",
       "    <tr style=\"text-align: right;\">\n",
       "      <th></th>\n",
       "      <th>tenure_renter_occupied</th>\n",
       "      <th>tenure_owner_occupied</th>\n",
       "      <th>vacancy_for_seasonal_recreational</th>\n",
       "      <th>vacancy_for_rent</th>\n",
       "      <th>vacancy_for_sale_only</th>\n",
       "      <th>vacancy_other_vacant</th>\n",
       "      <th>vacancy_rented_not_occupied</th>\n",
       "      <th>vacancy_for_migrant_workers</th>\n",
       "      <th>vacancy_sold_not_occupied</th>\n",
       "      <th>hhsex_female</th>\n",
       "      <th>...</th>\n",
       "      <th>hhmove_moved_in_1969_or_earlier</th>\n",
       "      <th>hhmove_moved_in_2000_to_2009</th>\n",
       "      <th>hhmove_moved_in_1970_to_1979</th>\n",
       "      <th>hhmove_moved_in_1980_to_1989</th>\n",
       "      <th>hhmove_moved_in_2010_or_later</th>\n",
       "      <th>qfs1_yes</th>\n",
       "      <th>qfs1_no</th>\n",
       "      <th>hdsb_no</th>\n",
       "      <th>hdsb_yes</th>\n",
       "      <th>tractid</th>\n",
       "    </tr>\n",
       "  </thead>\n",
       "  <tbody>\n",
       "    <tr>\n",
       "      <th>125396</th>\n",
       "      <td>0.201575</td>\n",
       "      <td>0.798425</td>\n",
       "      <td>0.696</td>\n",
       "      <td>0.0</td>\n",
       "      <td>0.184</td>\n",
       "      <td>0.104</td>\n",
       "      <td>0.016</td>\n",
       "      <td>0.0</td>\n",
       "      <td>0.0</td>\n",
       "      <td>0.509595</td>\n",
       "      <td>...</td>\n",
       "      <td>0.014961</td>\n",
       "      <td>0.53622</td>\n",
       "      <td>0.077165</td>\n",
       "      <td>0.13937</td>\n",
       "      <td>0.069291</td>\n",
       "      <td>0.081102</td>\n",
       "      <td>0.918898</td>\n",
       "      <td>0.037372</td>\n",
       "      <td>0.02616</td>\n",
       "      <td>56043000200</td>\n",
       "    </tr>\n",
       "  </tbody>\n",
       "</table>\n",
       "<p>1 rows × 250 columns</p>\n",
       "</div>"
      ],
      "text/plain": [
       "        tenure_renter_occupied  tenure_owner_occupied  \\\n",
       "125396                0.201575               0.798425   \n",
       "\n",
       "        vacancy_for_seasonal_recreational  vacancy_for_rent  \\\n",
       "125396                              0.696               0.0   \n",
       "\n",
       "        vacancy_for_sale_only  vacancy_other_vacant  \\\n",
       "125396                  0.184                 0.104   \n",
       "\n",
       "        vacancy_rented_not_occupied  vacancy_for_migrant_workers  \\\n",
       "125396                        0.016                          0.0   \n",
       "\n",
       "        vacancy_sold_not_occupied  hhsex_female     ...       \\\n",
       "125396                        0.0      0.509595     ...        \n",
       "\n",
       "        hhmove_moved_in_1969_or_earlier  hhmove_moved_in_2000_to_2009  \\\n",
       "125396                         0.014961                       0.53622   \n",
       "\n",
       "        hhmove_moved_in_1970_to_1979  hhmove_moved_in_1980_to_1989  \\\n",
       "125396                      0.077165                       0.13937   \n",
       "\n",
       "        hhmove_moved_in_2010_or_later  qfs1_yes   qfs1_no   hdsb_no  hdsb_yes  \\\n",
       "125396                       0.069291  0.081102  0.918898  0.037372   0.02616   \n",
       "\n",
       "            tractid  \n",
       "125396  56043000200  \n",
       "\n",
       "[1 rows x 250 columns]"
      ]
     },
     "execution_count": 30,
     "metadata": {},
     "output_type": "execute_result"
    }
   ],
   "source": [
    "acsCT.query(\" tractid == 56043000200 \")\n"
   ]
  },
  {
   "cell_type": "code",
   "execution_count": 31,
   "metadata": {},
   "outputs": [],
   "source": [
    "#JY: not sure what this code does, couldn't run\n",
    "\n",
    "#acsCT = acsCT.drop(['sum_level', 'geoid'], axis = 1)\n",
    "\n",
    "#acsCT.dropna()"
   ]
  },
  {
   "cell_type": "code",
   "execution_count": 32,
   "metadata": {
    "collapsed": true
   },
   "outputs": [],
   "source": [
    "\n",
    "########################################################\n",
    "# Handle missing observations by simple mean imputation\n",
    "acs_features = acsCT.drop(['tractid'], axis = 1)\n",
    "\n",
    "col_names = acs_features.columns\n",
    "\n",
    "imp = Imputer(missing_values = 'NaN', strategy = 'mean', axis = 0).fit(acs_features)\n",
    "acs_features = imp.transform(acs_features)\n",
    "\n",
    "acsCT = pd.DataFrame(acs_features)\n",
    "acsCT.columns = col_names\n",
    "acsCT = pd.concat([acsCT.reset_index(drop=True), acs_tractid.reset_index(drop=True)], axis = 1)\n",
    "########################################################\n",
    "\n"
   ]
  },
  {
   "cell_type": "code",
   "execution_count": 33,
   "metadata": {
    "collapsed": true
   },
   "outputs": [],
   "source": [
    "tract_data['tractid'].tail()\n",
    "tract_data_merged = tract_data.merge(acsCT, how='left', on='tractid')\n",
    "#tract_data_merged.tail()"
   ]
  },
  {
   "cell_type": "code",
   "execution_count": 34,
   "metadata": {},
   "outputs": [
    {
     "data": {
      "text/plain": [
       "tractid                                 0\n",
       "all_fire_all_years                      0\n",
       "alarm_unknown_all_years                 0\n",
       "alarm_presented_all_years               0\n",
       "alarm_not_presented_all_years           0\n",
       "ratio_no_alarm_in_all                   0\n",
       "ratio_no_alarm_in_all_known          6268\n",
       "tenure_renter_occupied                 15\n",
       "tenure_owner_occupied                  15\n",
       "vacancy_for_seasonal_recreational      15\n",
       "vacancy_for_rent                       15\n",
       "vacancy_for_sale_only                  15\n",
       "vacancy_other_vacant                   15\n",
       "vacancy_rented_not_occupied            15\n",
       "vacancy_for_migrant_workers            15\n",
       "vacancy_sold_not_occupied              15\n",
       "hhsex_female                           15\n",
       "hhsex_male                             15\n",
       "built_1980_to_1989                     15\n",
       "built_1960_to_1969                     15\n",
       "built_2010_to_later                    15\n",
       "built_1990_to_1999                     15\n",
       "built_1950_to_1959                     15\n",
       "built_1939_or_earlier                  15\n",
       "built_1940_to_1949                     15\n",
       "built_1970_to_1979                     15\n",
       "built_2000_to_2009                     15\n",
       "nunits_20_or_more                      15\n",
       "nunits_3_or_4                          15\n",
       "nunits_2                               15\n",
       "                                     ... \n",
       "lprice_750000_to_999999                15\n",
       "lprice_200000_to_249999                15\n",
       "zincn_35000_to_39999                   15\n",
       "zincn_10000_to_14999                   15\n",
       "zincn_150000_to_199999                 15\n",
       "zincn_125000_to_149999                 15\n",
       "zincn_60000_to_74999                   15\n",
       "zincn_40000_to_44999                   15\n",
       "zincn_25000_to_29999                   15\n",
       "zincn_50000_to_59999                   15\n",
       "zincn_20000_to_24999                   15\n",
       "zincn_45000_to_49999                   15\n",
       "zincn_30000_to_34999                   15\n",
       "zincn_200000_or_more                   15\n",
       "zincn_75000_to_99999                   15\n",
       "zincn_15000_to_19999                   15\n",
       "zincn_100000_to_124999                 15\n",
       "zincn_less_than_10000                  15\n",
       "mg_no                                  15\n",
       "mg_yes                                 15\n",
       "hhmove_moved_in_1990_to_1999           15\n",
       "hhmove_moved_in_1969_or_earlier        15\n",
       "hhmove_moved_in_2000_to_2009           15\n",
       "hhmove_moved_in_1970_to_1979           15\n",
       "hhmove_moved_in_1980_to_1989           15\n",
       "hhmove_moved_in_2010_or_later          15\n",
       "qfs1_yes                               15\n",
       "qfs1_no                                15\n",
       "hdsb_no                                15\n",
       "hdsb_yes                               15\n",
       "Length: 256, dtype: int64"
      ]
     },
     "execution_count": 34,
     "metadata": {},
     "output_type": "execute_result"
    }
   ],
   "source": [
    "tract_data_merged.isnull().sum()\n"
   ]
  },
  {
   "cell_type": "code",
   "execution_count": 35,
   "metadata": {},
   "outputs": [
    {
     "data": {
      "text/plain": [
       "tractid                                0\n",
       "all_fire_all_years                     0\n",
       "alarm_unknown_all_years                0\n",
       "alarm_presented_all_years              0\n",
       "alarm_not_presented_all_years          0\n",
       "ratio_no_alarm_in_all                  0\n",
       "ratio_no_alarm_in_all_known          167\n",
       "tenure_renter_occupied                 5\n",
       "tenure_owner_occupied                  5\n",
       "vacancy_for_seasonal_recreational      5\n",
       "vacancy_for_rent                       5\n",
       "vacancy_for_sale_only                  5\n",
       "vacancy_other_vacant                   5\n",
       "vacancy_rented_not_occupied            5\n",
       "vacancy_for_migrant_workers            5\n",
       "vacancy_sold_not_occupied              5\n",
       "hhsex_female                           5\n",
       "hhsex_male                             5\n",
       "built_1980_to_1989                     5\n",
       "built_1960_to_1969                     5\n",
       "built_2010_to_later                    5\n",
       "built_1990_to_1999                     5\n",
       "built_1950_to_1959                     5\n",
       "built_1939_or_earlier                  5\n",
       "built_1940_to_1949                     5\n",
       "built_1970_to_1979                     5\n",
       "built_2000_to_2009                     5\n",
       "nunits_20_or_more                      5\n",
       "nunits_3_or_4                          5\n",
       "nunits_2                               5\n",
       "                                    ... \n",
       "lprice_750000_to_999999                5\n",
       "lprice_200000_to_249999                5\n",
       "zincn_35000_to_39999                   5\n",
       "zincn_10000_to_14999                   5\n",
       "zincn_150000_to_199999                 5\n",
       "zincn_125000_to_149999                 5\n",
       "zincn_60000_to_74999                   5\n",
       "zincn_40000_to_44999                   5\n",
       "zincn_25000_to_29999                   5\n",
       "zincn_50000_to_59999                   5\n",
       "zincn_20000_to_24999                   5\n",
       "zincn_45000_to_49999                   5\n",
       "zincn_30000_to_34999                   5\n",
       "zincn_200000_or_more                   5\n",
       "zincn_75000_to_99999                   5\n",
       "zincn_15000_to_19999                   5\n",
       "zincn_100000_to_124999                 5\n",
       "zincn_less_than_10000                  5\n",
       "mg_no                                  5\n",
       "mg_yes                                 5\n",
       "hhmove_moved_in_1990_to_1999           5\n",
       "hhmove_moved_in_1969_or_earlier        5\n",
       "hhmove_moved_in_2000_to_2009           5\n",
       "hhmove_moved_in_1970_to_1979           5\n",
       "hhmove_moved_in_1980_to_1989           5\n",
       "hhmove_moved_in_2010_or_later          5\n",
       "qfs1_yes                               5\n",
       "qfs1_no                                5\n",
       "hdsb_no                                5\n",
       "hdsb_yes                               5\n",
       "Length: 256, dtype: int64"
      ]
     },
     "execution_count": 35,
     "metadata": {},
     "output_type": "execute_result"
    }
   ],
   "source": [
    "#tract_data_merged_filtered = tract_data_merged.query(\" all_fire_all_years > 25 \").dropna()\n",
    "tract_data_merged_filtered = tract_data_merged.query(\" all_fire_all_years > 25 \")\n",
    "\n",
    "#for x in tract_data_merged_filtered.columns:\n",
    "#    print(x)\n",
    "\n",
    "tract_data_merged_filtered.isnull().sum()\n"
   ]
  },
  {
   "cell_type": "code",
   "execution_count": null,
   "metadata": {
    "collapsed": true
   },
   "outputs": [],
   "source": [
    "\n",
    "'''\n",
    "#### upsample at arbitrary threshold for testing\n",
    "from sklearn.utils import resample\n",
    "high_fires_resampled = resample(tract_data_merged_filtered.query( \"all_fire_all_years >= 50\" ), n_samples = 1000, random_state = 12)\n",
    "\n",
    "tract_data_merged_filtered = tract_data_merged_filtered.append(high_fires_resampled)\n",
    "'''\n",
    "\n"
   ]
  },
  {
   "cell_type": "code",
   "execution_count": 36,
   "metadata": {},
   "outputs": [
    {
     "data": {
      "text/plain": [
       "all_fire_all_years                   0\n",
       "tenure_renter_occupied               5\n",
       "tenure_owner_occupied                5\n",
       "vacancy_for_seasonal_recreational    5\n",
       "vacancy_for_rent                     5\n",
       "vacancy_for_sale_only                5\n",
       "vacancy_other_vacant                 5\n",
       "vacancy_rented_not_occupied          5\n",
       "vacancy_for_migrant_workers          5\n",
       "vacancy_sold_not_occupied            5\n",
       "hhsex_female                         5\n",
       "hhsex_male                           5\n",
       "built_1980_to_1989                   5\n",
       "built_1960_to_1969                   5\n",
       "built_2010_to_later                  5\n",
       "built_1990_to_1999                   5\n",
       "built_1950_to_1959                   5\n",
       "built_1939_or_earlier                5\n",
       "built_1940_to_1949                   5\n",
       "built_1970_to_1979                   5\n",
       "built_2000_to_2009                   5\n",
       "nunits_20_or_more                    5\n",
       "nunits_3_or_4                        5\n",
       "nunits_2                             5\n",
       "nunits_10_to_19                      5\n",
       "nunits_5_to_9                        5\n",
       "nunits_1                             5\n",
       "hhrace_hawaiian_pac_isl_only         5\n",
       "hhrace_asian_only                    5\n",
       "hhrace_white_only                    5\n",
       "                                    ..\n",
       "lprice_750000_to_999999              5\n",
       "lprice_200000_to_249999              5\n",
       "zincn_35000_to_39999                 5\n",
       "zincn_10000_to_14999                 5\n",
       "zincn_150000_to_199999               5\n",
       "zincn_125000_to_149999               5\n",
       "zincn_60000_to_74999                 5\n",
       "zincn_40000_to_44999                 5\n",
       "zincn_25000_to_29999                 5\n",
       "zincn_50000_to_59999                 5\n",
       "zincn_20000_to_24999                 5\n",
       "zincn_45000_to_49999                 5\n",
       "zincn_30000_to_34999                 5\n",
       "zincn_200000_or_more                 5\n",
       "zincn_75000_to_99999                 5\n",
       "zincn_15000_to_19999                 5\n",
       "zincn_100000_to_124999               5\n",
       "zincn_less_than_10000                5\n",
       "mg_no                                5\n",
       "mg_yes                               5\n",
       "hhmove_moved_in_1990_to_1999         5\n",
       "hhmove_moved_in_1969_or_earlier      5\n",
       "hhmove_moved_in_2000_to_2009         5\n",
       "hhmove_moved_in_1970_to_1979         5\n",
       "hhmove_moved_in_1980_to_1989         5\n",
       "hhmove_moved_in_2010_or_later        5\n",
       "qfs1_yes                             5\n",
       "qfs1_no                              5\n",
       "hdsb_no                              5\n",
       "hdsb_yes                             5\n",
       "Length: 250, dtype: int64"
      ]
     },
     "execution_count": 36,
     "metadata": {},
     "output_type": "execute_result"
    }
   ],
   "source": [
    "########################################\n",
    "# Model Preparation\n",
    "########################################\n",
    "\n",
    "\n",
    "data_features = tract_data_merged_filtered.drop('ratio_no_alarm_in_all', axis = 1)\n",
    "data_features = data_features.drop(['tractid', 'alarm_unknown_all_years',\n",
    "                                    'alarm_presented_all_years', 'alarm_not_presented_all_years',\n",
    "                                    'ratio_no_alarm_in_all_known'], axis = 1)\n",
    "data_target = tract_data_merged_filtered['ratio_no_alarm_in_all']\n",
    "\n",
    "data_features.isnull().sum()\n"
   ]
  },
  {
   "cell_type": "code",
   "execution_count": 37,
   "metadata": {},
   "outputs": [
    {
     "data": {
      "text/plain": [
       "all_fire_all_years                   0\n",
       "tenure_renter_occupied               0\n",
       "tenure_owner_occupied                0\n",
       "vacancy_for_seasonal_recreational    0\n",
       "vacancy_for_rent                     0\n",
       "vacancy_for_sale_only                0\n",
       "vacancy_other_vacant                 0\n",
       "vacancy_rented_not_occupied          0\n",
       "vacancy_for_migrant_workers          0\n",
       "vacancy_sold_not_occupied            0\n",
       "hhsex_female                         0\n",
       "hhsex_male                           0\n",
       "built_1980_to_1989                   0\n",
       "built_1960_to_1969                   0\n",
       "built_2010_to_later                  0\n",
       "built_1990_to_1999                   0\n",
       "built_1950_to_1959                   0\n",
       "built_1939_or_earlier                0\n",
       "built_1940_to_1949                   0\n",
       "built_1970_to_1979                   0\n",
       "built_2000_to_2009                   0\n",
       "nunits_20_or_more                    0\n",
       "nunits_3_or_4                        0\n",
       "nunits_2                             0\n",
       "nunits_10_to_19                      0\n",
       "nunits_5_to_9                        0\n",
       "nunits_1                             0\n",
       "hhrace_hawaiian_pac_isl_only         0\n",
       "hhrace_asian_only                    0\n",
       "hhrace_white_only                    0\n",
       "                                    ..\n",
       "lprice_750000_to_999999              0\n",
       "lprice_200000_to_249999              0\n",
       "zincn_35000_to_39999                 0\n",
       "zincn_10000_to_14999                 0\n",
       "zincn_150000_to_199999               0\n",
       "zincn_125000_to_149999               0\n",
       "zincn_60000_to_74999                 0\n",
       "zincn_40000_to_44999                 0\n",
       "zincn_25000_to_29999                 0\n",
       "zincn_50000_to_59999                 0\n",
       "zincn_20000_to_24999                 0\n",
       "zincn_45000_to_49999                 0\n",
       "zincn_30000_to_34999                 0\n",
       "zincn_200000_or_more                 0\n",
       "zincn_75000_to_99999                 0\n",
       "zincn_15000_to_19999                 0\n",
       "zincn_100000_to_124999               0\n",
       "zincn_less_than_10000                0\n",
       "mg_no                                0\n",
       "mg_yes                               0\n",
       "hhmove_moved_in_1990_to_1999         0\n",
       "hhmove_moved_in_1969_or_earlier      0\n",
       "hhmove_moved_in_2000_to_2009         0\n",
       "hhmove_moved_in_1970_to_1979         0\n",
       "hhmove_moved_in_1980_to_1989         0\n",
       "hhmove_moved_in_2010_or_later        0\n",
       "qfs1_yes                             0\n",
       "qfs1_no                              0\n",
       "hdsb_no                              0\n",
       "hdsb_yes                             0\n",
       "Length: 250, dtype: int64"
      ]
     },
     "execution_count": 37,
     "metadata": {},
     "output_type": "execute_result"
    }
   ],
   "source": [
    "# Handle missing observations by simple mean imputation\n",
    "col_names = data_features.columns\n",
    "imp = Imputer(missing_values = 'NaN', strategy = 'mean', axis = 0).fit(data_features)\n",
    "data_features = imp.transform(data_features)\n",
    "\n",
    "data_features = pd.DataFrame(data_features)\n",
    "data_features.columns = col_names\n",
    "\n",
    "data_features.isnull().sum()\n"
   ]
  },
  {
   "cell_type": "code",
   "execution_count": 38,
   "metadata": {},
   "outputs": [
    {
     "name": "stderr",
     "output_type": "stream",
     "text": [
      "/Users/judyyang/anaconda/lib/python3.6/site-packages/sklearn/utils/validation.py:395: DeprecationWarning: Passing 1d arrays as data is deprecated in 0.17 and will raise ValueError in 0.19. Reshape your data either using X.reshape(-1, 1) if your data has a single feature or X.reshape(1, -1) if it contains a single sample.\n",
      "  DeprecationWarning)\n"
     ]
    }
   ],
   "source": [
    "\n",
    "#observation_weights = data_features.all_fire_all_years/data_features.all_fire_all_years.sum()\n",
    "#observation_weights_normalized = normalize(observation_weights, norm = 'l1')\n",
    "#data_features = data_features.drop(['all_fire_all_years'], axis = 1)\n",
    "\n",
    "x_train, x_test, y_train, y_test = train_test_split(data_features,\n",
    "                                                    data_target,\n",
    "                                                    test_size=0.1,\n",
    "                                                    random_state=12)\n",
    "\n",
    "all_fires = x_train.all_fire_all_years\n",
    "\n",
    "observation_weights = x_train.all_fire_all_years/x_train.all_fire_all_years.sum()\n",
    "observation_weights_normalized = normalize(observation_weights, norm = 'l1').ravel()\n",
    "scaled_weights = x_train.all_fire_all_years/np.max(x_train.all_fire_all_years)\n",
    "\n",
    "x_train = x_train.drop(['all_fire_all_years'], axis = 1)\n",
    "x_test = x_test.drop(['all_fire_all_years'], axis = 1)\n"
   ]
  },
  {
   "cell_type": "code",
   "execution_count": 39,
   "metadata": {
    "collapsed": true
   },
   "outputs": [],
   "source": [
    "# Output to csv\n",
    "x_train.to_csv('../Output/x_train.csv', header = True, index = False)\n",
    "x_test.to_csv('../Output/x_test.csv', header = True, index = False)\n",
    "y_train.to_csv('../Output/y_train.csv', header = True, index = False)\n",
    "y_test.to_csv('../Output/y_test.csv', header = True, index = False)\n",
    "all_fires.to_csv('../Output/all_fires.csv', header = True, index = False)\n",
    "\n"
   ]
  },
  {
   "cell_type": "code",
   "execution_count": 40,
   "metadata": {},
   "outputs": [
    {
     "name": "stdout",
     "output_type": "stream",
     "text": [
      "0.15035632560579218\n"
     ]
    }
   ],
   "source": [
    "#######################################\n",
    "# MODELING\n",
    "########################################\n",
    "\n",
    "\n",
    "clf_linear = linear_model.SGDRegressor(loss = 'squared_loss', penalty = 'none', random_state = 12)\n",
    "clf_linear.fit(x_train, y_train, sample_weight=scaled_weights)\n",
    "#clf_linear.fit(x_train, y_train, sample_weight=observation_weights_normalized)\n",
    "#clf_linear.fit(x_train, y_train)\n",
    "#clf_linear = linear_model.LogisticRegression()\n",
    "#clf_linear.fit(x_train, y_train)\n",
    "\n",
    "y_pred = clf_linear.predict(x_test)\n",
    "\n",
    "# RMSE of simple linear model\n",
    "rmse = sqrt(mean_squared_error(y_test, y_pred))\n",
    "print (rmse)\n"
   ]
  },
  {
   "cell_type": "code",
   "execution_count": 41,
   "metadata": {},
   "outputs": [
    {
     "name": "stdout",
     "output_type": "stream",
     "text": [
      "0.23830587738991438\n"
     ]
    }
   ],
   "source": [
    "\n",
    "#### Use model to predict for every census tract in the geocoded data (68075) ####\n",
    "\n",
    "# Clean up original full dataset\n",
    "tract_data_merged_simple = tract_data_merged.drop([\n",
    "    'tractid', 'alarm_unknown_all_years','alarm_presented_all_years', \n",
    "    'alarm_not_presented_all_years','ratio_no_alarm_in_all_known', \n",
    "    'ratio_no_alarm_in_all', 'all_fire_all_years'], axis = 1)                          \n",
    "\n",
    "tract_data_merged_simple.isnull().sum()\n",
    "\n",
    "# Handle missing observations by simple mean imputation\n",
    "col_names = tract_data_merged_simple.columns\n",
    "imp = Imputer(missing_values = 'NaN', strategy = 'mean', axis = 0).fit(tract_data_merged_simple)\n",
    "tract_data_merged_simple = imp.transform(tract_data_merged_simple)\n",
    "\n",
    "tract_data_merged_simple = pd.DataFrame(tract_data_merged_simple)\n",
    "tract_data_merged_simple.columns = col_names                                    \n",
    "                  \n",
    "tract_data_merged_simple.isnull().sum()\n",
    "                  \n",
    "full_preds = clf_linear.predict(tract_data_merged_simple)\n",
    "\n",
    "### Bound probabilities\n",
    "#full_preds[full_preds < 0] = 0\n",
    "#full_preds[full_preds > 1] = 1\n",
    "\n",
    "# RMSE of simple linear model on the full dataset\n",
    "#print sqrt(mean_squared_error(tract_data_merged_simple_clean.ratio_no_alarm_in_all, full_preds))\n",
    "print (sqrt(mean_squared_error(tract_data_merged.ratio_no_alarm_in_all, full_preds)))\n",
    "\n"
   ]
  },
  {
   "cell_type": "code",
   "execution_count": 43,
   "metadata": {},
   "outputs": [
    {
     "name": "stdout",
     "output_type": "stream",
     "text": [
      "4883     0.063434\n",
      "39673    0.095473\n",
      "27668    0.024855\n",
      "4879     0.601956\n",
      "15018    0.090759\n",
      "Name: weighted_linear_pred, dtype: float64\n"
     ]
    }
   ],
   "source": [
    "\n",
    "#tract_data['weighted_linear_pred'] = full_preds\n",
    "tract_data['weighted_linear_pred'] = full_preds\n",
    "#tract_data_merged['weighted_linear_pred'] = full_preds\n",
    "\n",
    "tract_data = tract_data.sort_values(['all_fire_all_years'], ascending = False)\n",
    "\n",
    "\n",
    "tract_data['weighted_linear_pred'].describe()\n",
    "print (tract_data['weighted_linear_pred'].tail())\n",
    "\n",
    "# Output to csv\n",
    "tract_data.to_csv('../Output/tract_data_weighted_linear_preds_upsampled.csv', header = True, index = False)\n"
   ]
  },
  {
   "cell_type": "code",
   "execution_count": 45,
   "metadata": {
    "collapsed": true
   },
   "outputs": [],
   "source": [
    "#### Use model to predict for every census tract in the census data (74,001) ####\n",
    "\n",
    "full_preds_acsCT = clf_linear.predict(acs_features)\n",
    "\n",
    "### Bound probabilities\n",
    "#full_preds[full_preds < 0] = 0\n",
    "#full_preds[full_preds > 1] = 1\n",
    "\n",
    "\n",
    "# Can't compute RMSE because we have no target for some of the tracts.\n",
    "\n",
    "tract_preds_74k = pd.concat([acs_tractid.reset_index(drop=True), pd.Series(full_preds_acsCT)], axis = 1)\n",
    "\n",
    "tract_preds_74k.columns = ['tractid', 'weighted_linear_pred']\n",
    "\n",
    "tract_preds_74k.weighted_linear_pred.describe()\n",
    "\n",
    "\n",
    "# Output to csv\n",
    "tract_preds_74k.to_csv('../Output/tracts_74k_weighted_linear_preds_upsampled.csv', header = True, index = False)\n",
    "\n",
    "\n",
    "\n"
   ]
  },
  {
   "cell_type": "code",
   "execution_count": null,
   "metadata": {
    "collapsed": true
   },
   "outputs": [],
   "source": []
  }
 ],
 "metadata": {
  "kernelspec": {
   "display_name": "Python 3",
   "language": "python",
   "name": "python3"
  },
  "language_info": {
   "codemirror_mode": {
    "name": "ipython",
    "version": 3
   },
   "file_extension": ".py",
   "mimetype": "text/x-python",
   "name": "python",
   "nbconvert_exporter": "python",
   "pygments_lexer": "ipython3",
   "version": "3.6.1"
  }
 },
 "nbformat": 4,
 "nbformat_minor": 2
}
