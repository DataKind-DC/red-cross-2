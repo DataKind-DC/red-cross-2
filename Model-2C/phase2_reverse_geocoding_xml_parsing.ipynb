{
 "cells": [
  {
   "cell_type": "markdown",
   "metadata": {},
   "source": [
    "# Reverse Geocoding\n",
    "Phase 2, 2018\n",
    "\n",
    "The module censusgeocode was used to reverse geocode coordinates to census tracts and blocks. The dataframe is partitioned to allow for processing and saving in chunks.\n",
    "\n",
    "Next steps:\n",
    "- parallel processing to speed up geocoding"
   ]
  },
  {
   "cell_type": "code",
   "execution_count": 219,
   "metadata": {},
   "outputs": [],
   "source": [
    "# Import modules\n",
    "import os\n",
    "import pandas as pd\n",
    "import numpy as np\n",
    "import censusgeocode as cg\n",
    "from math import ceil\n",
    "import time\n",
    "import tqdm\n",
    "import xml.etree.ElementTree as ET\n",
    "import urllib.request\n",
    "import xmltodict\n",
    "from math import isnan\n",
    "\n",
    "# Ignore warnings\n",
    "import warnings\n",
    "warnings.filterwarnings('ignore')\n",
    "\n",
    "%matplotlib inline\n",
    "\n",
    "# Establish file paths\n",
    "ROOT_dir = os.path.abspath('')\n",
    "dataFolder = ROOT_dir + '/data'\n",
    "outputFolder = ROOT_dir + '/phase2_output/geocodes'"
   ]
  },
  {
   "cell_type": "code",
   "execution_count": null,
   "metadata": {},
   "outputs": [],
   "source": [
    "# Load CSV in to a dataframe\n",
    "raw = pd.read_csv(dataFolder + '/2009-2014_RedCross_DisasterCases.csv',\n",
    "                 encoding = \"ISO-8859-1\",\n",
    "                 error_bad_lines = False)"
   ]
  },
  {
   "cell_type": "code",
   "execution_count": 196,
   "metadata": {},
   "outputs": [],
   "source": [
    "# Keep single, multi fires and fires\n",
    "\n",
    "# Build regex\n",
    "def converter(list):\n",
    "    output=\"\"\n",
    "    for letter in list:\n",
    "        if letter == ' ':\n",
    "            output += '[ ]'\n",
    "        else:\n",
    "            output += \"[\" + letter.upper() + letter.lower() + \"]\"\n",
    "    return output\n",
    "\n",
    "idx = np.where(raw['event_type_old_categories'].str.contains(converter('Fire : Single Family'), na = False)\n",
    "              | raw['event_type_old_categories'].str.contains(converter('Fire : Multi-Family'), na = False)\n",
    "              | raw['event_type_old_categories'].str.match(converter('Fire') + '$', na = False))\n",
    "\n",
    "raw_fires = raw.loc[raw.index[idx[0]]].reset_index()"
   ]
  },
  {
   "cell_type": "code",
   "execution_count": 211,
   "metadata": {},
   "outputs": [
    {
     "name": "stdout",
     "output_type": "stream",
     "text": [
      "Original: (566772, 41)\n",
      "Processed: (464162, 6)\n"
     ]
    },
    {
     "data": {
      "text/html": [
       "<div>\n",
       "<style scoped>\n",
       "    .dataframe tbody tr th:only-of-type {\n",
       "        vertical-align: middle;\n",
       "    }\n",
       "\n",
       "    .dataframe tbody tr th {\n",
       "        vertical-align: top;\n",
       "    }\n",
       "\n",
       "    .dataframe thead th {\n",
       "        text-align: right;\n",
       "    }\n",
       "</style>\n",
       "<table border=\"1\" class=\"dataframe\">\n",
       "  <thead>\n",
       "    <tr style=\"text-align: right;\">\n",
       "      <th></th>\n",
       "      <th>long</th>\n",
       "      <th>lat</th>\n",
       "      <th>tract</th>\n",
       "      <th>geoType</th>\n",
       "      <th>stateFips</th>\n",
       "      <th>name</th>\n",
       "    </tr>\n",
       "  </thead>\n",
       "  <tbody>\n",
       "    <tr>\n",
       "      <th>0</th>\n",
       "      <td>-86.765284</td>\n",
       "      <td>34.810583</td>\n",
       "      <td>NaN</td>\n",
       "      <td>NaN</td>\n",
       "      <td>NaN</td>\n",
       "      <td>NaN</td>\n",
       "    </tr>\n",
       "    <tr>\n",
       "      <th>1</th>\n",
       "      <td>-86.147937</td>\n",
       "      <td>31.764383</td>\n",
       "      <td>NaN</td>\n",
       "      <td>NaN</td>\n",
       "      <td>NaN</td>\n",
       "      <td>NaN</td>\n",
       "    </tr>\n",
       "    <tr>\n",
       "      <th>2</th>\n",
       "      <td>-85.622874</td>\n",
       "      <td>32.807411</td>\n",
       "      <td>NaN</td>\n",
       "      <td>NaN</td>\n",
       "      <td>NaN</td>\n",
       "      <td>NaN</td>\n",
       "    </tr>\n",
       "    <tr>\n",
       "      <th>3</th>\n",
       "      <td>-86.396463</td>\n",
       "      <td>34.617060</td>\n",
       "      <td>NaN</td>\n",
       "      <td>NaN</td>\n",
       "      <td>NaN</td>\n",
       "      <td>NaN</td>\n",
       "    </tr>\n",
       "    <tr>\n",
       "      <th>4</th>\n",
       "      <td>-86.777434</td>\n",
       "      <td>33.738204</td>\n",
       "      <td>NaN</td>\n",
       "      <td>NaN</td>\n",
       "      <td>NaN</td>\n",
       "      <td>NaN</td>\n",
       "    </tr>\n",
       "  </tbody>\n",
       "</table>\n",
       "</div>"
      ],
      "text/plain": [
       "        long        lat  tract  geoType  stateFips  name\n",
       "0 -86.765284  34.810583    NaN      NaN        NaN   NaN\n",
       "1 -86.147937  31.764383    NaN      NaN        NaN   NaN\n",
       "2 -85.622874  32.807411    NaN      NaN        NaN   NaN\n",
       "3 -86.396463  34.617060    NaN      NaN        NaN   NaN\n",
       "4 -86.777434  33.738204    NaN      NaN        NaN   NaN"
      ]
     },
     "execution_count": 211,
     "metadata": {},
     "output_type": "execute_result"
    }
   ],
   "source": [
    "# Create dataframe for coordinate & census data\n",
    "coords_df = raw_fires[['esri_longitude_x', 'esri_latitude_x']]\n",
    "coords_df = coords_df.rename(columns = {'esri_longitude_x':'long', 'esri_latitude_x':'lat'})\n",
    "#coords_df = coords_df.dropna(subset = ['long', 'lat'])\n",
    "\n",
    "coords_df['tract'] = np.nan\n",
    "coords_df['geoType'] = np.nan\n",
    "coords_df['stateFips'] = np.nan\n",
    "coords_df['name'] = np.nan\n",
    "\n",
    "print('Original:',raw.shape)\n",
    "print('Processed:',coords_df.shape)\n",
    "\n",
    "coords_df.head()"
   ]
  },
  {
   "cell_type": "code",
   "execution_count": 230,
   "metadata": {},
   "outputs": [],
   "source": [
    "# Partition data into chunks to allow for processing & saving in chunks\n",
    "\n",
    "num_chunks = 100\n",
    "#idx = np.where(coords_df['long'].notnull() & coords_df['lat'].notnull())[0]\n",
    "chunk_size = ceil(coords_df.shape[0] / float(num_chunks))\n",
    "chunk_idx = []\n",
    "for i in range(num_chunks + 2):\n",
    "    if i == 0:\n",
    "        chunk_idx.append([0,chunk_size])\n",
    "    else:\n",
    "        temp = range(max(chunk_idx[-1]) + 1, max(chunk_idx[-1]) + chunk_size)\n",
    "        if max(temp) > coords_df.shape[0]:\n",
    "            chunk_idx.append([min(temp),coords_df.shape[0]])\n",
    "        else:\n",
    "            chunk_idx.append([min(temp),max(temp)])"
   ]
  },
  {
   "cell_type": "code",
   "execution_count": null,
   "metadata": {},
   "outputs": [
    {
     "name": "stderr",
     "output_type": "stream",
     "text": [
      "\n",
      "  0%|          | 0/92 [00:00<?, ?it/s]\u001b[A\n"
     ]
    }
   ],
   "source": [
    "# Reverse Geocode using censusgeocode module\n",
    "url_base = 'http://www.broadbandmap.gov/broadbandmap/census/tract?latitude='\n",
    "\n",
    "start_time = time.time()\n",
    "loopTime = []\n",
    "failed = []\n",
    "for chunk in tqdm.tqdm(range(len(chunk_idx[10:]))):\n",
    "    idx_list = list(range(chunk_idx[chunk][0], chunk_idx[chunk][1] + 1))\n",
    "    for idx in idx_list:\n",
    "        start_time2 = time.time()\n",
    "        lat = coords_df.loc[idx,'lat']\n",
    "        long = coords_df.loc[idx,'long']\n",
    "        if (isnan(lat) | isnan(long)):\n",
    "            failed.append(idx)\n",
    "        else:\n",
    "            url = url_base + str(lat) + '&longitude=' + str(long) + '&format=xml'\n",
    "            response = urllib.request.urlopen(url)\n",
    "            xml = response.read()\n",
    "            temp = xmltodict.parse(xml)\n",
    "\n",
    "            if 'No Census Tract results found' not in list(temp['Response'].values()):\n",
    "                temp = dict(temp['Response']['Results']['censusTract'])\n",
    "                coords_df.loc[idx,'tract'] = temp['fips']\n",
    "                coords_df.loc[idx,'geoType'] = temp['geographyType']\n",
    "                coords_df.loc[idx,'stateFips'] = temp['stateFips']\n",
    "                coords_df.loc[idx,'name'] = temp['name']\n",
    "            else:\n",
    "                failed.append(idx)\n",
    "        loopTime.append(time.time() - start_time2)\n",
    "    \n",
    "    # Overwrite CSV\n",
    "    coords_df.to_csv(outputFolder + '/geocodes_xml_method.csv')\n",
    "\n",
    "print('Elapsed time:',time.time() - start_time)"
   ]
  },
  {
   "cell_type": "code",
   "execution_count": null,
   "metadata": {},
   "outputs": [],
   "source": []
  },
  {
   "cell_type": "code",
   "execution_count": null,
   "metadata": {},
   "outputs": [],
   "source": []
  },
  {
   "cell_type": "code",
   "execution_count": null,
   "metadata": {},
   "outputs": [],
   "source": []
  }
 ],
 "metadata": {
  "kernelspec": {
   "display_name": "Python 3",
   "language": "python",
   "name": "python3"
  },
  "language_info": {
   "codemirror_mode": {
    "name": "ipython",
    "version": 3
   },
   "file_extension": ".py",
   "mimetype": "text/x-python",
   "name": "python",
   "nbconvert_exporter": "python",
   "pygments_lexer": "ipython3",
   "version": "3.6.5"
  }
 },
 "nbformat": 4,
 "nbformat_minor": 2
}
